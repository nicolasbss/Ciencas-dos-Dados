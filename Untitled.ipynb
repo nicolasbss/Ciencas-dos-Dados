{
 "cells": [
  {
   "cell_type": "code",
   "execution_count": null,
   "metadata": {
    "collapsed": true
   },
   "outputs": [],
   "source": [
    "#lendo o dataframe\n",
    "data2 = pd.read_excel(\"Netflix(1).xlsx\")\n",
    "\n",
    "#checando a probabilidade de um tweet ser relevante ou não\n",
    "prob_relevancia2 = data2.classificador.value_counts(True)\n",
    "print(prob_relevancia2)\n",
    "\n",
    "\n",
    "#criando parâmetros para retirar todas as pontuações das palavras\n",
    "tweets2 = np.sum(data2.Treinamento + \" \")\n",
    "tweets22 = tweets2.split()\n",
    "pontuação2 = list(string.punctuation)\n",
    "\n",
    "#removendo pontuação de todas as palavras\n",
    "palavras2 = []\n",
    "remove_pontuação(tweets2, palavras2)\n",
    "    \n",
    "#criando um uma lista contendo apenas pavlaras que aparecem nos posts relevantes\n",
    "t_relevantes2 = np.sum(data2[data2.classificador == \"sim\"].Treinamento + \" \")\n",
    "t_relevantes2 = t_relevantes2.split()\n",
    "\n",
    "#criando um uma lista contendo apenas pavlaras que aparecem nos posts não relevantes\n",
    "t_nrelevantes2 = np.sum(data2[data2.classificador == \"não\"].Treinamento + \" \")\n",
    "t_nrelevantes2 = t_nrelevantes2.split()\n",
    "\n",
    "#removendo pontuação das palavras relevantes e não relevantes\n",
    "p_relevantes2 = []\n",
    "p_nrelevantes2 = []\n",
    "remove_pontuação(t_relevantes2, p_relevantes2)\n",
    "remove_pontuação(t_nrelevantes2, p_nrelevantes2)\n",
    "\n",
    "#salvando em uma variável a quantidade de palavras diferentes\n",
    "n_palavras2 = len(palavras2)\n",
    "n_palavrasr2 = len(p_relevantes2)\n",
    "n_palavrasnr2 = len(p_nrelevantes2)"
   ]
  },
  {
   "cell_type": "code",
   "execution_count": null,
   "metadata": {
    "collapsed": true
   },
   "outputs": [],
   "source": [
    "colunaaux_rel2 = pd.Series(p_relevantes2)\n",
    "colunaaux_nrel2 = pd.Series(p_nrelevantes2)\n",
    "\n",
    "prob_prel2 = colunaaux_rel2.value_counts()\n",
    "prob_pnrel2 = colunaaux_nrel2.value_counts()\n",
    "\n",
    "prel_laplace2 = pd.Series((prob_prel2 + 1) / (n_palavrasr2 + n_palavras2))\n",
    "pnrel_laplace2 = pd.Series((prob_pnrel2 + 1) / (n_palavrasnr2 + n_palavras2))\n"
   ]
  },
  {
   "cell_type": "code",
   "execution_count": null,
   "metadata": {
    "collapsed": true
   },
   "outputs": [],
   "source": [
    "teste2 = pd.read_excel(\"Netflix(1).xlsx\", \"Teste\")\n",
    "\n",
    "lista_teste2 = list(teste2.Teste)\n",
    "lista_tweets2 = []\n",
    "\n",
    "\n",
    "for tweet in lista_teste:\n",
    "    for caractere in tweet:\n",
    "        if caractere in pontuação:\n",
    "            tweet = tweet.replace(caractere, \"\")\n",
    "    lista_tweets2.append(tweet)\n",
    "    \n",
    "teste_r2 = Probabilidade_frase(lista_tweets2, prob_prel2, prob_relevancia2[1], n_palavrasr2)\n",
    "teste_nr2 = Probabilidade_frase(lista_tweets2, prob_pnrel2, prob_relevancia2[0], n_palavrasnr2)\n",
    "\n",
    "respostas2 = Comparador(teste_r, teste_nr)\n",
    "data2 = {\"tweets\" : lista_teste2, \"classificador\": teste2.classificador, \"respostas\": respostas2}\n",
    "\n",
    "tabela_testes2 = pd.DataFrame(data2, columns = [\"tweets\", \"classificador\", \"respostas\"])"
   ]
  },
  {
   "cell_type": "code",
   "execution_count": null,
   "metadata": {
    "collapsed": true
   },
   "outputs": [],
   "source": [
    "verificação2 = []\n",
    "for i in range(len(respostas2)):\n",
    "    if teste2.classificador[i] == respostas2[i]:\n",
    "        if respostas2[i] == \"não\":\n",
    "            verificação2.append(\"negativo verdadeiro\")\n",
    "        elif respostas2[i] == \"sim\":\n",
    "            verificação2.append(\"positivo verdadeiro\")\n",
    "    \n",
    "    elif teste2.classificador[i] != respostas2[i]:\n",
    "        if respostas2[i] == \"não\":\n",
    "            verificação2.append(\"negativo falso\")\n",
    "        elif respostas2[i] == \"sim\":\n",
    "            verificação2.append(\"positivo falso\")\n",
    "            \n",
    "            \n",
    "verificaçãoS2 = pd.Series(verificação2)\n",
    "porcentagem2 = verificaçãoS2.value_counts(True)\n",
    "porcentagem2"
   ]
  }
 ],
 "metadata": {
  "kernelspec": {
   "display_name": "Python 3",
   "language": "python",
   "name": "python3"
  },
  "language_info": {
   "codemirror_mode": {
    "name": "ipython",
    "version": 3
   },
   "file_extension": ".py",
   "mimetype": "text/x-python",
   "name": "python",
   "nbconvert_exporter": "python",
   "pygments_lexer": "ipython3",
   "version": "3.6.0"
  }
 },
 "nbformat": 4,
 "nbformat_minor": 2
}
